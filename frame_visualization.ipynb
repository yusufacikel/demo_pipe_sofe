{
 "cells": [
  {
   "cell_type": "code",
   "execution_count": null,
   "id": "0c3c49e6",
   "metadata": {},
   "outputs": [],
   "source": [
    "# import necessary libraries\n",
    "import logging\n",
    "import numpy as np\n",
    "import os\n",
    "\n",
    "from utils import FileManager\n",
    "from Frame import Frame\n",
    "from utils import ImageVisualizer\n",
    "from utils import generic_o3d_vis\n",
    "\n",
    "imgvis = ImageVisualizer()\n",
    "logging.basicConfig(level=logging.ERROR)"
   ]
  },
  {
   "cell_type": "code",
   "execution_count": null,
   "id": "7340459f",
   "metadata": {},
   "outputs": [],
   "source": [
    "# choose the directory and the frame to be visualized\n",
    "BASE_DIR = os.getcwd()\n",
    "RUN_DIR_PATH = os.path.join(BASE_DIR, \"sample_data/sample_run\")\n",
    "\n",
    "fm = FileManager(RUN_DIR_PATH)\n",
    "pair = fm.get_pair(0)\n",
    "frame = Frame(\n",
    "    depth_path=pair.depth_path,\n",
    "    color_path=pair.color_path,\n",
    "    raw_timestamp=pair.raw_timestamp,\n",
    "    recording_time_str=pair.recording_time_str\n",
    ")"
   ]
  },
  {
   "cell_type": "code",
   "execution_count": null,
   "id": "d9e048a3",
   "metadata": {},
   "outputs": [],
   "source": [
    "# visualize the raw depth and color images\n",
    "imgvis.depth_color_side_by_side(frame.depth, frame.color)"
   ]
  },
  {
   "cell_type": "code",
   "execution_count": null,
   "id": "7ae407a0",
   "metadata": {},
   "outputs": [],
   "source": [
    "# visualize the raw pcd\n",
    "raw_pcd = frame.raw_pixels.create_pcd_from_pixels()\n",
    "generic_o3d_vis(raw_pcd)"
   ]
  },
  {
   "cell_type": "code",
   "execution_count": null,
   "id": "201d4305",
   "metadata": {},
   "outputs": [],
   "source": [
    "# demonstration of the systemic depth error\n",
    "bin_size = 25\n",
    "min_depth = np.min(frame.depth)\n",
    "max_depth = np.max(frame.depth)\n",
    "bin_edges = np.arange(min_depth, max_depth + bin_size, bin_size)\n",
    "print(f\"bin_size: {bin_size}, min_depth: {min_depth}, max_depth: {max_depth}\")\n",
    "\n",
    "for i in reversed(range(3, len(bin_edges) - 1)):\n",
    "    print(f\"Processing bin {i + 1}/{len(bin_edges) - 1} with edges {bin_edges[i]} to {bin_edges[i + 1]}\")\n",
    "    bin_min = bin_edges[i]\n",
    "    bin_max = bin_edges[i + 1]\n",
    "\n",
    "    bin_pixels = frame.raw_pixels.get_pixels_in_range(bin_min, bin_max)\n",
    "    bin_depth = bin_pixels.create_depth_from_pixels()\n",
    "    bin_color = bin_pixels.create_color_from_pixels()\n",
    "    imgvis.depth_color_side_by_side(bin_depth, bin_color)\n",
    "    \n",
    "    bin_fg_pixels = bin_pixels.get_foreground_pixels()\n",
    "    bin_fg_depth = bin_fg_pixels.create_depth_from_pixels()\n",
    "    bin_fg_color = bin_fg_pixels.create_color_from_pixels()\n",
    "    imgvis.depth_color_side_by_side(bin_fg_depth, bin_fg_color)\n",
    "\n",
    "    bin_bg_pixels = bin_pixels.get_background_pixels()\n",
    "    bin_bg_depth = bin_bg_pixels.create_depth_from_pixels()\n",
    "    bin_bg_color = bin_bg_pixels.create_color_from_pixels()\n",
    "    imgvis.depth_color_side_by_side(bin_bg_depth, bin_bg_color)\n",
    "\n"
   ]
  },
  {
   "cell_type": "code",
   "execution_count": null,
   "id": "56305628",
   "metadata": {},
   "outputs": [],
   "source": [
    "# background pixels\n",
    "bg_pixels = frame.raw_pixels.get_background_pixels()\n",
    "\n",
    "bg_depth_image = bg_pixels.create_depth_from_pixels()\n",
    "bg_color_image = bg_pixels.create_color_from_pixels()\n",
    "imgvis.depth_color_side_by_side(bg_depth_image, bg_color_image)"
   ]
  },
  {
   "cell_type": "code",
   "execution_count": null,
   "id": "b15754ba",
   "metadata": {},
   "outputs": [],
   "source": [
    "# visualize all the background pixels as a point cloud with the fitted circle\n",
    "geometries = []\n",
    "for bg_circle in frame.bg_circles:\n",
    "    bin_geometries = bg_circle.get_geometries()\n",
    "    geometries.extend(bin_geometries)\n",
    "generic_o3d_vis(geometries)"
   ]
  },
  {
   "cell_type": "code",
   "execution_count": null,
   "id": "32f8bd9d",
   "metadata": {},
   "outputs": [],
   "source": [
    "# foreground pixels \n",
    "fg_pixels = frame.raw_pixels.get_foreground_pixels()\n",
    "\n",
    "fg_depth_image = fg_pixels.create_depth_from_pixels()\n",
    "fg_color_image = fg_pixels.create_color_from_pixels()\n",
    "\n",
    "imgvis.depth_color_side_by_side(fg_depth_image, fg_color_image)\n"
   ]
  },
  {
   "cell_type": "code",
   "execution_count": null,
   "id": "01c3e8a8",
   "metadata": {},
   "outputs": [],
   "source": [
    "# visualize all the foreground pixels as a point cloud with the fitted circle\n",
    "geometries = []\n",
    "for fg_circle in frame.fg_circles:\n",
    "    bin_geometries = fg_circle.get_geometries()\n",
    "    geometries.extend(bin_geometries)\n",
    "generic_o3d_vis(geometries)"
   ]
  }
 ],
 "metadata": {
  "kernelspec": {
   "display_name": ".venv",
   "language": "python",
   "name": "python3"
  },
  "language_info": {
   "codemirror_mode": {
    "name": "ipython",
    "version": 3
   },
   "file_extension": ".py",
   "mimetype": "text/x-python",
   "name": "python",
   "nbconvert_exporter": "python",
   "pygments_lexer": "ipython3",
   "version": "3.12.3"
  }
 },
 "nbformat": 4,
 "nbformat_minor": 5
}
